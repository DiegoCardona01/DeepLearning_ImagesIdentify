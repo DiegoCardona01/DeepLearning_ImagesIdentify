{
 "cells": [
  {
   "cell_type": "markdown",
   "metadata": {},
   "source": [
    "# Procesamiento de imágenes\n",
    "\n",
    "   El contenido de este archivo representa la parte que analiza el CAPTCHA y separa el contenido de la imagen en distintas sub-imagenes\\\n",
    "   que contienen las diferentes letras y números identificados. Esto es realizado en python 2.\n",
    "\n",
    "   La metodología implementada, consiste en identificar mediante patrones de color las letras, primero se hace un barrido para determinar\\\n",
    "   cual es la gama de colores dominantes en relación a sus pixels, se debe tener en cuenta el ignorar el color de fondo que predomina.\\\n",
    "   Al aplicar el análisis, se determina el color correspondiente a las letras, el cual nos indica cuales pixeles son los dominantes y\\\n",
    "   de esta manera separar las figuras correspondientes que equivalen a letras y números. Se debe tener en cuenta que el análisis hecho\\\n",
    "   a la imágen de letras y números es en formato GIF para tener una mejor captura de información. Luego se guardan las letras y números\\\n",
    "   obtenidos en formato png. El proceso a continuar es disernir a qué elementos corresponden las imágenes gif guardadas, relacionándolos\\\n",
    "   con una base de datos del alfabeto y números que es creada de forma independiente en el script de jupyter de identificacióń.\n",
    "   "
   ]
  },
  {
   "cell_type": "code",
   "execution_count": 1,
   "metadata": {},
   "outputs": [],
   "source": [
    "# El programa se realizó utilizando Python2\n",
    "from PIL import Image\n",
    "import hashlib\n",
    "import time\n",
    "from operator import itemgetter"
   ]
  },
  {
   "cell_type": "code",
   "execution_count": 2,
   "metadata": {},
   "outputs": [
    {
     "name": "stdout",
     "output_type": "stream",
     "text": [
      "(151, 10900)\n",
      "(138, 2300)\n",
      "(23, 410)\n",
      "(0, 211)\n",
      "(143, 25)\n",
      "(130, 22)\n",
      "(134, 22)\n",
      "(139, 22)\n",
      "(147, 22)\n",
      "(27, 21)\n"
     ]
    }
   ],
   "source": [
    "# Con el resultado de esta linea, se observa que el tamaño máximo de pixels es 151 \n",
    "# luego tomamos el tercer color que predomina como referencia del contenido que tendran las letras y números\n",
    "# para que el programa separe dichos contornos. No se toman ni el mayor ni el menor numero de pixels, dado que\n",
    "# corresponderían a partes muy oscuras o muy blancas, como por ejemplo el fondo del CAPTCHA\n",
    "\n",
    "im = Image.open(\"./captcha_proofGIF.gif\")\n",
    "im = im.convert(\"P\")\n",
    "his = im.histogram()\n",
    "\n",
    "values = {}\n",
    "\n",
    "for i in range(256):\n",
    "    values[i] = his[i]\n",
    "\n",
    "for j,k in sorted(values.items(), key=itemgetter(1), reverse=True)[:10]:\n",
    "    print(j,k)"
   ]
  },
  {
   "cell_type": "code",
   "execution_count": 3,
   "metadata": {},
   "outputs": [
    {
     "name": "stdout",
     "output_type": "stream",
     "text": [
      "[(47, 57), (59, 69), (72, 82), (87, 102), (105, 114), (116, 123), (126, 136), (139, 151), (156, 165), (170, 178), (182, 193), (195, 207)]\n"
     ]
    }
   ],
   "source": [
    "im = Image.open(\"./captcha_proofGIF.gif\")\n",
    "im = im.convert(\"P\")\n",
    "im2 = Image.new(\"P\",im.size,151)\n",
    "#151\n",
    "im = im.convert(\"P\")\n",
    "\n",
    "temp = {}\n",
    "\n",
    "for x in range(im.size[1]):\n",
    "    for y in range(im.size[0]):\n",
    "        pix = im.getpixel((y,x))\n",
    "        temp[pix] = pix\n",
    "        if pix == 23 or pix == 29:\n",
    "            im2.putpixel((y,x),0)\n",
    "\n",
    "#im2.save(\"salida.gif\")\n",
    "\n",
    "\n",
    "inletter = False\n",
    "foundletter=False\n",
    "start = 0\n",
    "end = 0\n",
    "\n",
    "letters = []\n",
    "\n",
    "for y in range(im2.size[0]):\n",
    "    for x in range(im2.size[1]):\n",
    "        pix = im2.getpixel((y,x))\n",
    "        if pix != 151:\n",
    "            inletter = True\n",
    "\n",
    "    if (foundletter == False and inletter == True):\n",
    "        foundletter = True\n",
    "        start = y\n",
    "\n",
    "    if foundletter == True and inletter == False:\n",
    "        foundletter = False\n",
    "        end = y\n",
    "        letters.append((start,end))\n",
    "\n",
    "    inletter=False\n",
    "print(letters)\n",
    "\n",
    "count = 0\n",
    "for letter in letters:\n",
    "    m = hashlib.md5()\n",
    "    im3 = im2.crop(( letter[0] , 0, letter[1],im2.size[1] ))\n",
    "    m.update(\"%s%s\"%(time.time(),count))\n",
    "    im3.save(\"./%s.png\"%(m.hexdigest().encode('utf-8')))\n",
    "    count += 1\n",
    "    \n",
    "# Al final, obtenemos las dimensiones de las distintas imagenes obtenidas y se guardan en la carpeta \n",
    "# donde se compilo"
   ]
  },
  {
   "cell_type": "code",
   "execution_count": null,
   "metadata": {},
   "outputs": [],
   "source": []
  }
 ],
 "metadata": {
  "interpreter": {
   "hash": "334d0893a4a8dfd353265af916db87faa9d670b06d75c1fa518e97aefe96a256"
  },
  "kernelspec": {
   "display_name": "Python 3.7.10 ('jupyter-env')",
   "language": "python",
   "name": "python3"
  },
  "language_info": {
   "codemirror_mode": {
    "name": "ipython",
    "version": 2
   },
   "file_extension": ".py",
   "mimetype": "text/x-python",
   "name": "python",
   "nbconvert_exporter": "python",
   "pygments_lexer": "ipython2",
   "version": "2.7.15"
  },
  "orig_nbformat": 4
 },
 "nbformat": 4,
 "nbformat_minor": 2
}
